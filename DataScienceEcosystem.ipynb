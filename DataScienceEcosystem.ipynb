{
 "cells": [
  {
   "cell_type": "markdown",
   "id": "c57edac7-7f6e-4049-a56f-8c011ef4cde7",
   "metadata": {},
   "source": [
    "# Data Science Tools and Ecosystem"
   ]
  },
  {
   "cell_type": "code",
   "execution_count": null,
   "id": "c58ab20a-da58-464f-acf1-78a84bfc4b5d",
   "metadata": {},
   "outputs": [],
   "source": []
  },
  {
   "cell_type": "markdown",
   "id": "b983658e-6581-4fe2-9559-29fba3e2e0ee",
   "metadata": {},
   "source": [
    "In this notebook, Data Science tools and Ecosystem are summarized."
   ]
  },
  {
   "cell_type": "markdown",
   "id": "c14bece4-f5a6-4119-83b4-a4ecaf25c7f5",
   "metadata": {},
   "source": [
    "**Objectives:**\n",
    "- List popular languages for Data Science.\n",
    "- Introduce commonly used libraries in Data Science.\n",
    "- Summarize key tools used in Data Science environments.\n",
    "- Arithmetic Expression to multiply and then add integer."
   ]
  },
  {
   "cell_type": "code",
   "execution_count": null,
   "id": "8629468a-d8e9-40c2-932f-cdbc3d7b9cd9",
   "metadata": {},
   "outputs": [],
   "source": []
  },
  {
   "cell_type": "markdown",
   "id": "b468a174-003e-493b-b9d5-5f162e3ca375",
   "metadata": {},
   "source": [
    "Some of the popular languages that Data Scientists use are:\n",
    "1. Python\n",
    "2. R\n",
    "3. SQL\n",
    "4. Julia"
   ]
  },
  {
   "cell_type": "code",
   "execution_count": null,
   "id": "d004ee5e-f580-4afe-91f3-f92e72fe6d02",
   "metadata": {},
   "outputs": [],
   "source": []
  },
  {
   "cell_type": "markdown",
   "id": "4e7032d3-bb9d-450a-a024-059004b85912",
   "metadata": {},
   "source": [
    "Some of the commonly used libraries by Data Scientists are: \n",
    "1. Pandas\n",
    "2. PyTorch\n",
    "3. NumPy\n",
    "4. scikit-learn\n",
    "5. TensorFlow"
   ]
  },
  {
   "cell_type": "code",
   "execution_count": null,
   "id": "1397fd9e-3813-4d15-8188-491d4e0af388",
   "metadata": {},
   "outputs": [],
   "source": []
  },
  {
   "cell_type": "markdown",
   "id": "af623994-e445-4a29-8775-a50f8ad68314",
   "metadata": {},
   "source": [
    "| Data Science Tools |\n",
    "|--------------------|\n",
    "| Jupyter Notebook   |\n",
    "| VS Code            |\n",
    "| Spyder             |\n",
    "| Apache Spark       |\n",
    "| Apache Hadoop      |"
   ]
  },
  {
   "cell_type": "code",
   "execution_count": null,
   "id": "67420b9f-9916-4369-8519-ef3fba1135d8",
   "metadata": {},
   "outputs": [],
   "source": []
  },
  {
   "cell_type": "markdown",
   "id": "6387030c-8cf6-473c-a1c0-d3eb8371c348",
   "metadata": {},
   "source": [
    "### Below are a few examples of evaluating arithmetic expressions in Python.\n"
   ]
  },
  {
   "cell_type": "code",
   "execution_count": null,
   "id": "1c9b8f3b-fd5f-4889-b156-7713c100c62a",
   "metadata": {},
   "outputs": [],
   "source": []
  },
  {
   "cell_type": "code",
   "execution_count": 21,
   "id": "ba5d3e74-2cd8-41fb-943a-001f897f033e",
   "metadata": {},
   "outputs": [
    {
     "name": "stdout",
     "output_type": "stream",
     "text": [
      "85736\n"
     ]
    }
   ],
   "source": [
    "# This is an Arithmetic expression to multiply then add the integers\n",
    "result = (34 * 45 * 56) + 56\n",
    "print(result)"
   ]
  },
  {
   "cell_type": "code",
   "execution_count": null,
   "id": "3a11be68-a8f6-4416-923b-94e76ed915be",
   "metadata": {},
   "outputs": [],
   "source": []
  },
  {
   "cell_type": "code",
   "execution_count": 23,
   "id": "a9c92912-0542-4c40-90c1-ec75b4de0cf4",
   "metadata": {},
   "outputs": [
    {
     "name": "stdout",
     "output_type": "stream",
     "text": [
      "9.333333333333334\n"
     ]
    }
   ],
   "source": [
    "# This expression is to convert minutes into hours\n",
    "result = 560 / 60\n",
    "print(result)"
   ]
  },
  {
   "cell_type": "code",
   "execution_count": null,
   "id": "335ae3f6-ee59-4d7e-9ab8-1eda71657acf",
   "metadata": {},
   "outputs": [],
   "source": []
  },
  {
   "cell_type": "markdown",
   "id": "8650bd93-d3a9-4afd-bb78-29d9c9d91902",
   "metadata": {},
   "source": [
    "## AUTHOR\n",
    "Navina Visvanathan"
   ]
  },
  {
   "cell_type": "code",
   "execution_count": null,
   "id": "f6b40f32-fada-4324-aac6-c9ebe6203f0e",
   "metadata": {},
   "outputs": [],
   "source": []
  }
 ],
 "metadata": {
  "kernelspec": {
   "display_name": "Python 3 (ipykernel)",
   "language": "python",
   "name": "python3"
  },
  "language_info": {
   "codemirror_mode": {
    "name": "ipython",
    "version": 3
   },
   "file_extension": ".py",
   "mimetype": "text/x-python",
   "name": "python",
   "nbconvert_exporter": "python",
   "pygments_lexer": "ipython3",
   "version": "3.11.7"
  }
 },
 "nbformat": 4,
 "nbformat_minor": 5
}
